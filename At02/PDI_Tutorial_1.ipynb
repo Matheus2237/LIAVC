{
  "cells": [
    {
      "cell_type": "markdown",
      "metadata": {
        "id": "OU4AAstR0HG6"
      },
      "source": [
        "#**Tutorial 1**\n",
        "\n",
        "Neste tutorial vamos:\n",
        "- ler uma imagem colorida\n",
        "- visualizar a imagem\n",
        "- visualizar as matrizes\n",
        "- gerar o histograma da imagem"
      ]
    },
    {
      "cell_type": "markdown",
      "metadata": {
        "id": "rVQ72cRFIMtP"
      },
      "source": [
        "\n",
        "##Passo 1: Carregar as dependências\n",
        "\n",
        "*   [Numpy](https://www.numpy.org/) é uma biblioteca para manipular matrizes/vetores.\n",
        "*   [Pandas](https://pandas.pydata.org/) é uma biblioteca para manipular e analisar dados.\n",
        "*   [CV2](https://opencv-python-tutroals.readthedocs.io/en/latest/py_tutorials/py_gui/py_image_display/py_image_display.html) é uma biblioteca com diversas funcionalidades de visão computacional.\n",
        "*   [Skimage](https://scikit-image.org/) é uma biblioteca que suporta aplicações de processamento de imagem em python.\n",
        "*   [PIL](https://pypi.org/project/Pillow/) é uma biblioteca que adiciona suporte à abertura e gravação de muitos formatos de imagem diferentes.\n",
        "*   [Matplotlib](https://matplotlib.org/) é uma biblioteca que gera figuras e gráficos.\n",
        "\n",
        "\n",
        "\n",
        "\n",
        "\n",
        "\n",
        "\n"
      ]
    },
    {
      "cell_type": "code",
      "execution_count": null,
      "metadata": {
        "id": "6dy-iP-VTibt",
        "vscode": {
          "languageId": "python"
        }
      },
      "outputs": [],
      "source": [
        "import numpy as np\n",
        "import pandas as pd\n",
        "import cv2 as cv \n",
        "from google.colab.patches import cv2_imshow # para exibir imagens dentro do COLAB\n",
        "from skimage import io\n",
        "from PIL import Image \n",
        "import matplotlib.pylab as plt"
      ]
    },
    {
      "cell_type": "markdown",
      "metadata": {
        "id": "6MYXdmP7fElG"
      },
      "source": [
        "##Passo 2: Ler e exibir imagens\n",
        "\n",
        "> É possível ler imagens locais (do seu computador) ou de URLs (da internet). Independente da fonte, as imagens serão exibidas usando o openCV. Note que o mais comum para imagens colorida é trabalhar com canais de cores RGB (Red, Green, Blue). Entretanto no openCV o padrão usado é BGR (Blue, Green, Red). Vamos estudar os modelos e espaços de cores no Tutorial 2. "
      ]
    },
    {
      "cell_type": "code",
      "execution_count": null,
      "metadata": {
        "id": "Tz7UAjxjfMuz",
        "vscode": {
          "languageId": "python"
        }
      },
      "outputs": [],
      "source": [
        "# Cria uma lista que contém as urls das imagens que serão processadas\n",
        "urls = [\"https://iiif.lib.ncsu.edu/iiif/0052574/full/800,/0/default.jpg\",\n",
        "       \"https://iiif.lib.ncsu.edu/iiif/0016007/full/800,/0/default.jpg\",\n",
        "      \"https://placekitten.com/800/571\"]  \n",
        "\n",
        "# Lê e exibe as imagens da lista de url acima\n",
        "# Está utilizando uma estrutura de repetição, ou seja, para cada imagem da lista de urls serão executados os comandos abaixo\n",
        "# Em Python além da forma tradicional de usar FOR, existem variações que facilitam, uma delas está sendo utilizada abaixo\n",
        "#    urls é a lista que tem todas as imagens\n",
        "#    url é uma das urls, começando pela primeira da lista e vai variando conforme o laço de repetição vai avançando  \n",
        "for url in urls:\n",
        "  imageBGR = io.imread(url) # faz a leitura da imagem; converte para matriz de pixels; porém usa o modelo de cor BGR\n",
        "  imageRGB = cv.cvtColor(imageBGR, cv.COLOR_BGR2RGB) # converte a matriz BGR para uma matriz RGB, pois é o modelo de cor mais utilizado em imagens\n",
        "  final_frame = cv.hconcat((imageBGR, imageRGB)) # para visualizarem a diferença entre BGR e RGB, ambas serão colocadas lado a lado\n",
        "  cv2_imshow(final_frame) # exibe a imagem no monitor\n",
        "  print('\\n') # pular uma linha\n"
      ]
    },
    {
      "cell_type": "markdown",
      "metadata": {
        "id": "hPYOeezmsWFj"
      },
      "source": [
        "#### FAÇA #1: Ler e exibir uma imagem de uma URL\n",
        "\n",
        "Exemplos de banco de imagens disponíveis:\n",
        "\n",
        "[Place Kitten](https://placekitten.com/) - use esta URL como base, em seguida informe as dimensões desejadas para largura e altura. Note que devem ser separadas pelo caracter barra de espaço (''/''). Um exemplo: `https://placekitten.com/500/300` para acessar uma imagem de um gato que tenha 500px de larguar por 300px de altura.\n",
        "\n",
        "[NC State University Libraries Special Collections](https://d.lib.ncsu.edu/collections/catalog) - Navegue no site a procura das imagens. Na imagem desejada clique com o botão direito e escolha \"Salvar imagem como\". Exemplo de um endereço: `https://iiif.lib.ncsu.edu/iiif/0051230/square/300,/0/default.jpg`.\n",
        "\n",
        "[Buscar pelo Google Imagem](https://www.google.com/imghp?hl=pt-BR) - procure por alguma imagem. Clique na imagem desejada, em seguida, com o botão direito e escolha \"Salvar imagem como\"."
      ]
    },
    {
      "cell_type": "code",
      "execution_count": null,
      "metadata": {
        "id": "SQnoyw2SHUIc",
        "vscode": {
          "languageId": "python"
        }
      },
      "outputs": [],
      "source": [
        "# FAÇA AQUI O SEU CÓDIGO\n",
        "\n",
        "url = \"https://placekitten.com/500/300\"\n",
        "imageBGR = io.imread(url)\n",
        "imageRGB = cv.cvtColor(imageBGR, cv.COLOR_BGR2RGB)\n",
        "cv2_imshow(imageRGB)"
      ]
    },
    {
      "cell_type": "markdown",
      "metadata": {
        "id": "6ET1Hcz8iRrC"
      },
      "source": [
        "##Passo 3:  Acessar informações da imagem\n",
        "\n",
        ">O termo imagem monocromática, ou simplesmente imagem, refere-se à função bidimensional de intensidade da luz f(x,y), onde x e y denotam as coordenadas espaciais e o valor f em qualquer ponto (x, y) é proporcional ao brilho (ou níveis de cinza) da imagem naquele ponto.“ (GONZALEZ; WOODS, 2000, p. 4).\n",
        "> Sendo assim, pode-se representar uma imagem em um computador como uma matriz, em que seus índices (linhas e colunas) indicam um ponto da imagem e, seu valor, indica o nível de cinza em tal ponto.\n",
        "Para cada elemento dessa matriz dá-se o nome de pixel, abreviação de picture elements (elementos de figura).\n",
        "\n",
        "> Uma imagem colorida são 3 matrizes, uma matriz para o R (red), outra para o G (gree) e outra para o B (blue). Cada matriz tem suas coordenadas (x,y) que representam a posição espacial do pixel na imagem, em que cada coordenada possui um valor entre 0 e 255, sendo que quanto mais próxima de 0 indica a ausência daquela cor, em contra partida, quanto mais próxima de 255 indica fortemente a presença daquela cor. \n",
        "\n",
        "> Cada canal de cor (R, G e B) pode ser visuaizado e/ou acessado individualmente, mas para que a imagem seja exibida colorida na tela é necessário juntar as 3 matrizes numa só. Por isto uma imagem colorida tem as dimensões (M, N, 3), em que M é a quantidade de linhas, N é a quantidade de coluanas e 3 indica que são 3 matrizes, ou seja, uma matriz para cada um dos canais (R, G e B).\n",
        "\n",
        "> As demais cores são formadas pela mistura das cores de RGB. Fiquem tranquilos que vamos aprofundar este assunto no Tutorial 2."
      ]
    },
    {
      "cell_type": "code",
      "execution_count": null,
      "metadata": {
        "id": "HRaIwqkXdes_",
        "vscode": {
          "languageId": "python"
        }
      },
      "outputs": [],
      "source": [
        "print('='*100)\n",
        "print('carregar e exibir uma imagem')\n",
        "print('='*100)\n",
        "# esta imagem é muito famosa na literatura de PDI, sugiro pesquisarem: lena processamento de imagem\n",
        "url = \"https://gizmodo.uol.com.br/wp-content/blogs.dir/8/files/2012/08/lenna.jpg\"\n",
        "iBGR = io.imread(url)  \n",
        "iRGB = cv.cvtColor(iBGR, cv.COLOR_BGR2RGB)\n",
        "cv2_imshow(iRGB)\n",
        "# ----------------------------------------------------------------------------------------\n",
        "print('='*100)\n",
        "print('informações da imagem')\n",
        "print('='*100)\n",
        "# tipo de dados da imagem (uint8 = 8 bits = 2^8 = 256, ou seja, cada pixel pode ser um valor entre 0 e 255)\n",
        "print(iRGB.dtype)\n",
        "# altura da imagem\n",
        "print(iRGB.shape[0])\n",
        "# largura da image \n",
        "print(iRGB.shape[1])\n",
        "# número de canais da imagem (RGB são 3 canais)\n",
        "print(iRGB.shape[2])\n",
        "# ----------------------------------------------------------------------------------------\n",
        "print('='*100)\n",
        "print('acessar as matrizes da imagem')\n",
        "print('='*100)\n",
        "print('acessando uma matriz com 3 dimensões')\n",
        "print(iRGB[0,0,0]) # é o valor de VERMELHO do primeiro pixel da imagem, ou seja, o pixel localizado na linha 0 e coluna 0\n",
        "print(iRGB[0,0,1]) # é o valor de VERDE do primeiro pixel da imagem, ou seja, o pixel localizado na linha 0 e coluna 0\n",
        "print(iRGB[0,0,2]) # é o valor de AZUL do primeiro pixel da imagem, ou seja, o pixel localizado na linha 0 e coluna 0\n",
        "\n",
        "print('\\nacessando uma matriz com 2 dimensões')\n",
        "# para evitar ficar acessando uma matriz de 3 dimensões, podemos usar 3 matrizes de apenas 2 dimensões\n",
        "R = iRGB[:,:,0] # R receberá todas as linhas e todas as colunas, porém, apenas referentes a 1ª dimensão, ou seja, apenas o VERMELHO\n",
        "G = iRGB[:,:,1] # G receberá todas as linhas e todas as colunas, porém, apenas referentes a 1ª dimensão, ou seja, apenas o VERDE\n",
        "B = iRGB[:,:,2] # B receberá todas as linhas e todas as colunas, porém, apenas referentes a 1ª dimensão, ou seja, apenas o AZUL\n",
        "# note que não preciso mais informar a 3ª dimensão\n",
        "print(R[0,0]) # é o valor de VERMELHO do primeiro pixel da imagem, ou seja, o pixel localizado na linha 0 e coluna 0\n",
        "print(G[0,0]) # é o valor de VERDE do primeiro pixel da imagem, ou seja, o pixel localizado na linha 0 e coluna 0\n",
        "print(B[0,0]) # é o valor de AZUL do primeiro pixel da imagem, ou seja, o pixel localizado na linha 0 e coluna 0\n",
        "\n",
        "print('\\nvisualizar a matriz inteira')\n",
        "# é possível visualizar a matriz INTEIRA de cada canal de cor. Ex:\n",
        "print(R)\n",
        "\n",
        "print('\\nvisualizar uma região da matriz')\n",
        "# ou ainda apenas uma região específica. Ex:\n",
        "print(R[0:2,0:9]) # as 3 primeiras linhas (da 0 até a 2); as 10 primeiras colunas (da 0 até a 9)\n"
      ]
    },
    {
      "cell_type": "markdown",
      "metadata": {
        "id": "3xLedPMUroOa"
      },
      "source": [
        "#### FAÇA #2: Acesso aos pixels\n",
        "\n",
        "- 1) abrir e exibir uma nova imagem de sua escolha (Não se esqueça das convesões)\n",
        "- 2) exibir a largura da imagem\n",
        "- 3) exibir a matriz de VERDE\n",
        "- 4) exibir as 3 cores do último pixel\n",
        "- 5) exibir os valores de AZUL para a LINHA central da imagem, ou seja, encontre a metade da ALTURA da imagem para imprimir todas as COLUNAS\n",
        "- 6) exibir os valores de VERMELHO para a COLUNA central da imagem, ou seja, encontre a metade da LARGURA da imagem para imprimir todas as LINHAS"
      ]
    },
    {
      "cell_type": "code",
      "execution_count": null,
      "metadata": {
        "id": "QsjxKuPHrxpp",
        "vscode": {
          "languageId": "python"
        }
      },
      "outputs": [],
      "source": [
        "# FAÇA AQUI O SEU CÓDIGO\n",
        "def printLine(text, n):\n",
        "    print(\"=\"*n)\n",
        "    print(text.center(n))\n",
        "    print(\"=\"*n)\n",
        "\n",
        "\n",
        "# 1) abrir e exibir uma nova imagem de sua escolha (Não se esqueça das convesões)\n",
        "printLine(\"Abrindo a imagem\", 83)\n",
        "url = \"http://cdn.spacetelescope.org/archives/videos/videoframe/heic1501g.jpg\"\n",
        "imBGR = io.imread(url)\n",
        "imRGB = cv.cvtColor(imBGR, cv.COLOR_BGR2RGB)\n",
        "cv2_imshow(imRGB)\n",
        "\n",
        "\n",
        "# 2) exibir a largura da imagem\n",
        "printLine(\"Informações da imagem\", 83)\n",
        "print(\"Largura da imagem: \", imRGB.shape[1], end='\\n\\n')\n",
        "\n",
        "\n",
        "# 3) exibir a matriz de VERDE\n",
        "print(\"Matriz de VERDE:\")\n",
        "G = imRGB[:,:,1]\n",
        "print(G, end='\\n\\n')\n",
        "\n",
        "\n",
        "# 4) exibir as 3 cores do último pixel\n",
        "alt = imRGB.shape[0]\n",
        "larg = imRGB.shape[1]\n",
        "print(\"Cores do último pixel: \")\n",
        "print(\"R =\", imRGB[alt-1, larg-1, 0])\n",
        "print(\"G =\", imRGB[alt-1, larg-1, 1])\n",
        "print(\"B =\", imRGB[alt-1, larg-1, 2])\n",
        "print(end='\\n\\n')\n",
        "\n",
        "\n",
        "# 5) exibir os valores de AZUL para a LINHA central da imagem, ou seja, encontre a metade da ALTURA da imagem para imprimir todas as COLUNAS\n",
        "print(\"Valores de AZUL para a linha central da imagem:\")\n",
        "meiaAlt = int(alt/2)\n",
        "print(imRGB[meiaAlt,:,2], end='\\n\\n')\n",
        "\n",
        "\n",
        "# 6) exibir os valores de VERMELHO para a COLUNA central da imagem, ou seja, encontre a metade da LARGURA da imagem para imprimir todas as LINHAS\n",
        "print(\"Valores de VERMELHO para a coluna central da imagem:\")\n",
        "meiaLarg = int(larg/2)\n",
        "print(imRGB[:,meiaLarg,0],end='\\n\\n')\n",
        "printLine(\"\", 83) "
      ]
    },
    {
      "cell_type": "markdown",
      "metadata": {
        "id": "gEspqUEddRz5"
      },
      "source": [
        "##Passo 4: Histogramas\n",
        "\n",
        "\n"
      ]
    },
    {
      "cell_type": "markdown",
      "metadata": {
        "id": "JlHHA4CDogVd"
      },
      "source": [
        "O histograma é a represetanção gráfica da distribuição de frequências de um conjunto de dados. Para aplicações em imagens esse gráfico deve ser gerado considerando cada canal de cor isolado (os canais de cores podem até ser plotado no mesmo gráfico, mas são contabilizados individualmente) ou ainda um para imagens em tons de cinza. O gráfico é construído da seguinte forma:\n",
        "- eixo X: valores entre 0 e 255, representando assim a intensidade dos pixels\n",
        "- eixo Y: quantidade de pixel que possui a mesma intensidade\n",
        "\n",
        "Portanto estamos querendo saber quantos pixel possuem a mesma intensidade. Ex: Dada uma imagem, para o canal R, quantos pixels possui valor 139? Entretanto, esse processo é feito para todos os valores, de 0 a 255. Por isto dizemos que é a **distribuição** (para cada intensidade) **das frequências** (quantidade com a mesma intensidade).\n",
        "\n",
        "Em processamento de imagens é uma técnica que por meio da estatística permite investigar e entender melhor a imagem. O seu uso é bastante variado, quase sempre é a primeira informação analisada após abrir uma imagem, pois baseada nela é que decidimos se precisamos ou não ajustar o brilho e/ou o contraste da imagem. Identifica também se uma imagem é predominantemente mais escura ou mais clara. Por fim, também pode ser utilizada como descritor da imagem. No Tutorial 2 vamos explorar melhor o histograma, agora precisamos apenas ter certeza que entendemos o que ele é e como gerar ele. \n",
        "\n",
        "Para criar um histograma vamos utilizar a função `hist()` da biblioteca do OpenCV, plotando no gráfico gerado pelo matplot.\n",
        "\n",
        "IMPORTANTE: leia a documentação oficial da função `hist()`. É crucial que vocês entendam a sintaxe das funções, ou seja, o jeito correto de usar uma função, a ordem e os típos dos parâmetros. [Clique aqui para entender](https://opencv-python-tutroals.readthedocs.io/en/latest/py_tutorials/py_imgproc/py_histograms/py_table_of_contents_histograms/py_table_of_contents_histograms.html)"
      ]
    },
    {
      "cell_type": "code",
      "execution_count": null,
      "metadata": {
        "id": "3ugbLMdXPOdE",
        "vscode": {
          "languageId": "python"
        }
      },
      "outputs": [],
      "source": [
        "print('='*100)\n",
        "print('carregar e exibir uma imagem')\n",
        "print('='*100)\n",
        "url = \"https://medias.lojaslinna.com.br/general/1184062_1_fullsize.jpg?w=1000&h=900&fit=fit&crop=center\"\n",
        "imagemBGR = io.imread(url)  \n",
        "imagemRGB = cv.cvtColor(imagemBGR, cv.COLOR_BGR2RGB)\n",
        "cv2_imshow(imagemRGB)\n",
        "# ----------------------------------------------------------------------------------------\n",
        "print('='*100)\n",
        "print('histogramas individuais')\n",
        "print('='*100)\n",
        "\n",
        "# histograma do canal R\n",
        "hist = cv.calcHist([imagemRGB],[0],None,[256],[0,256])\n",
        "plt.title(\"histograma do canal R\")\n",
        "plt.plot(hist,color = 'r')\n",
        "plt.xlim([0,256])\n",
        "plt.show()\n",
        "# histograma do canal G\n",
        "hist = cv.calcHist([imagemRGB],[1],None,[256],[0,256])\n",
        "plt.title(\"histograma do canal G\")\n",
        "plt.plot(hist,color = 'g')\n",
        "plt.xlim([0,256])\n",
        "plt.show()\n",
        "# histograma do canal B\n",
        "hist = cv.calcHist([imagemRGB],[2],None,[256],[0,256])\n",
        "plt.title(\"histograma do canal B\")\n",
        "plt.plot(hist,color = 'b')\n",
        "plt.xlim([0,256])\n",
        "plt.show()\n",
        "\n",
        "# ----------------------------------------------------------------------------------------\n",
        "print('='*100)\n",
        "print('histogramas no mesmo gráfico')\n",
        "print('='*100)\n",
        "\n",
        "color = ('r','g','b')\n",
        "for i,col in enumerate(color):\n",
        "    hist = cv.calcHist([imagemRGB],[i],None,[256],[0,256])\n",
        "    plt.plot(hist,color = col)\n",
        "    plt.xlim([0,256])\n",
        "plt.show()\n",
        "\n"
      ]
    },
    {
      "cell_type": "markdown",
      "metadata": {
        "id": "lSewpSEdgF7x"
      },
      "source": [
        "#### FAÇA #3: Histogramas\n",
        "\n",
        "- 1) abrir e exibir uma nova imagem de sua escolha (diferente das anteriores)\n",
        "- 2) calcular e exibir o histograma dos 3 canais no mesmo gráfico\n",
        "- 3) Repita os passos 1 e 2 para mais outra imagem de sua escolha"
      ]
    },
    {
      "cell_type": "code",
      "execution_count": null,
      "metadata": {
        "id": "G9xRYYaJhIwb",
        "vscode": {
          "languageId": "python"
        }
      },
      "outputs": [],
      "source": [
        "# FAÇA AQUI O SEU CÓDIGO\n",
        "\n",
        "# 1) abrir e exibir uma nova imagem de sua escolha (diferente das anteriores)\n",
        "printLine(\"Abrindo a imagem\", 130)\n",
        "url = \"https://d3v84qcuo1n8sg.cloudfront.net/images/media/images/wildlife/living-with-wildlife/red-fox-hero.jpg\"\n",
        "imageBGR = io.imread(url)\n",
        "imageRGB = cv.cvtColor(imageBGR, cv.COLOR_BGR2RGB)\n",
        "cv2_imshow(imageRGB)\n",
        "\n",
        "\n",
        "# 2) calcular e exibir o histograma dos 3 canais no mesmo gráfico\n",
        "printLine(\"Histograma dos 3 canais de cores\", 130)\n",
        "color = ('r', 'g', 'b')\n",
        "for i, col in enumerate(color):\n",
        "  hist = cv.calcHist([imageRGB], [i], None, [256], [0,256])\n",
        "  plt.title(\"Histograma dos 3 canais de cores\")\n",
        "  plt.plot(hist, color=col)\n",
        "  plt.xlim([0,256])\n",
        "plt.show()\n",
        "print(end='\\n\\n')\n",
        "\n",
        "\n",
        "# 3) Repita os passos 1 e 2 para mais outra imagem de sua escolha\n",
        "printLine(\"Abrindo outra imagem\", 156)\n",
        "url = \"https://i0.wp.com/gamehall.com.br/wp-content/uploads/2019/10/star-wars-jedi-fallen-order-2.jpg?resize=1200%2C675&ssl=1\"\n",
        "imagemBGR = io.imread(url)\n",
        "imagemRGB = cv.cvtColor(imagemBGR, cv.COLOR_BGR2RGB)\n",
        "cv2_imshow(imagemRGB)\n",
        "\n",
        "\n",
        "printLine(\"Outro histograma dos 3 canais de cores\", 156)\n",
        "cores = ('r', 'g', 'b')\n",
        "for canal, cor in enumerate(cores):\n",
        "  histo = cv.calcHist([imagemRGB], [canal], None, [256], [0,256])\n",
        "  plt.title(\"Histograma dos 3 canais de cores\")\n",
        "  plt.plot(histo, color=cor)\n",
        "  plt.xlim([0,256])\n",
        "plt.show()\n",
        "printLine(\"\", 156)"
      ]
    }
  ],
  "metadata": {
    "colab": {
      "collapsed_sections": [],
      "name": "PDI_Tutorial_1.ipynb",
      "provenance": [],
      "toc_visible": true
    },
    "kernelspec": {
      "display_name": "Python 3",
      "name": "python3"
    }
  },
  "nbformat": 4,
  "nbformat_minor": 0
}
